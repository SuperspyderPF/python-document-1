{
 "cells": [
  {
   "cell_type": "markdown",
   "metadata": {
    "id": "tzz5-Wnl6qaM"
   },
   "source": [
    "# Object-Oriented-Programming (OOP)"
   ]
  },
  {
   "cell_type": "markdown",
   "metadata": {
    "id": "u5kRIYx66qaO"
   },
   "source": [
    "## Tasks Today:\n",
    "\n",
    "   \n",
    "\n",
    "1) <b>Creating a Class (Initializing/Declaring)</b> <br>\n",
    "2) <b>Using a Class (Instantiating)</b> <br>\n",
    " &nbsp;&nbsp;&nbsp;&nbsp; a) Creating One Instance <br>\n",
    " &nbsp;&nbsp;&nbsp;&nbsp; b) Creating Multiple Instances <br>\n",
    " &nbsp;&nbsp;&nbsp;&nbsp; c) In-Class Exercise #1 - Create a Class 'Car' and instantiate three different makes of cars <br>\n",
    "3) <b>The \\__init\\__() Method</b> <br>\n",
    " &nbsp;&nbsp;&nbsp;&nbsp; a) The 'self' Attribute <br>\n",
    "4) <b>Class Attributes</b> <br>\n",
    " &nbsp;&nbsp;&nbsp;&nbsp; a) Initializing Attributes <br>\n",
    " &nbsp;&nbsp;&nbsp;&nbsp; b) Setting an Attribute Outside of the \\__init\\__() Method <br>\n",
    " &nbsp;&nbsp;&nbsp;&nbsp; c) Setting Defaults for Attributes <br>\n",
    " &nbsp;&nbsp;&nbsp;&nbsp; d) Accessing Class Attributes <br>\n",
    " &nbsp;&nbsp;&nbsp;&nbsp; e) Changing Class Attributes <br>\n",
    " &nbsp;&nbsp;&nbsp;&nbsp; f) In-Class Exercise #2 - Add a color and wheels attribute to your 'Car' class <br>\n",
    "5) <b>Class Methods</b> <br>\n",
    " &nbsp;&nbsp;&nbsp;&nbsp; a) Creating <br>\n",
    " &nbsp;&nbsp;&nbsp;&nbsp; b) Calling <br>\n",
    " &nbsp;&nbsp;&nbsp;&nbsp; c) Modifying an Attribute's Value Through a Method <br>\n",
    " &nbsp;&nbsp;&nbsp;&nbsp; d) Incrementing an Attribute's Value Through a Method <br>\n",
    " &nbsp;&nbsp;&nbsp;&nbsp; e) In-Class Exercise #3 - Add a method that prints the cars color and wheel number, then call them <br>\n",
    "6) <b>Inheritance</b> <br>\n",
    " &nbsp;&nbsp;&nbsp;&nbsp; a) Syntax for Inheriting from a Parent Class <br>\n",
    " &nbsp;&nbsp;&nbsp;&nbsp; b) The \\__init\\__() Method for a Child Class (super()) <br>\n",
    " &nbsp;&nbsp;&nbsp;&nbsp; c) Defining Attributes and Methods for the Child Class <br>\n",
    " &nbsp;&nbsp;&nbsp;&nbsp; d) Method Overriding <br>\n",
    " &nbsp;&nbsp;&nbsp;&nbsp; e) In-Class Exercise #4 - Create a class 'Ford' that inherits from 'Car' class and initialize it as a Blue Ford Explorer with 4 wheels using the super() method <br>\n",
    "7) <b>Classes as Attributes</b> <br>\n",
    "8) <b>Exercises</b> <br>\n",
    " &nbsp;&nbsp;&nbsp;&nbsp; a) Exercise #1 - Turn the shopping cart program from yesterday into an object-oriented program <br>"
   ]
  },
  {
   "cell_type": "markdown",
   "metadata": {
    "id": "bV1RNZTn6qaP"
   },
   "source": [
    "## Creating a Class (Initializing/Declaring)\n",
    "<p>When creating a class, function, or even a variable you are initializing that object. Initializing and Declaring occur at the same time in Python, whereas in lower level languages you have to declare an object before initializing it. This is the first step in the process of using a class.</p>"
   ]
  },
  {
   "cell_type": "code",
   "execution_count": 25,
   "metadata": {
    "executionInfo": {
     "elapsed": 307,
     "status": "ok",
     "timestamp": 1654400144143,
     "user": {
      "displayName": "Brandon Apol",
      "userId": "10984203036753147866"
     },
     "user_tz": 480
    },
    "id": "S7HPzAkZ6qaQ"
   },
   "outputs": [
    {
     "ename": "NameError",
     "evalue": "name 'car' is not defined",
     "output_type": "error",
     "traceback": [
      "\u001b[1;31m---------------------------------------------------------------------------\u001b[0m",
      "\u001b[1;31mNameError\u001b[0m                                 Traceback (most recent call last)",
      "Input \u001b[1;32mIn [25]\u001b[0m, in \u001b[0;36m<cell line: 9>\u001b[1;34m()\u001b[0m\n\u001b[0;32m      6\u001b[0m     \u001b[38;5;28;01mdef\u001b[39;00m \u001b[38;5;21mheadlights\u001b[39m():\n\u001b[0;32m      7\u001b[0m         \u001b[38;5;28mprint\u001b[39m(\u001b[38;5;124m'\u001b[39m\u001b[38;5;124mturn them to safety, do not crush moose\u001b[39m\u001b[38;5;124m'\u001b[39m)\n\u001b[1;32m----> 9\u001b[0m volkswagen \u001b[38;5;241m=\u001b[39m \u001b[43mcar\u001b[49m()\n\u001b[0;32m     10\u001b[0m volkswagen\u001b[38;5;241m.\u001b[39mheadlights\n",
      "\u001b[1;31mNameError\u001b[0m: name 'car' is not defined"
     ]
    }
   ],
   "source": [
    "class Car():\n",
    "    wheels = 4\n",
    "    color = 'blue'\n",
    "    windsheild_wipers = ' wee wwweee woo'\n",
    "    \n",
    "    def headlights():\n",
    "        print('turn them to safety, do not crush moose')\n",
    "\n",
    "volkswagen = car()\n",
    "volkswagen.headlights()"
   ]
  },
  {
   "cell_type": "markdown",
   "metadata": {
    "id": "Bi4oK3Om6qaQ"
   },
   "source": [
    "## Using a Class (Instantiating)\n",
    "<p>The process of creating a class is called <i>Instantiating</i>. Each time you create a variable of that type of class, it is referred to as an <i>Instance</i> of that class. This is the second step in the process of using a class.</p>"
   ]
  },
  {
   "cell_type": "markdown",
   "metadata": {
    "id": "_WzS37Z_6qaR"
   },
   "source": [
    "##### Creating One Instance"
   ]
  },
  {
   "cell_type": "code",
   "execution_count": 15,
   "metadata": {
    "colab": {
     "base_uri": "https://localhost:8080/"
    },
    "executionInfo": {
     "elapsed": 306,
     "status": "ok",
     "timestamp": 1654400232968,
     "user": {
      "displayName": "Brandon Apol",
      "userId": "10984203036753147866"
     },
     "user_tz": 480
    },
    "id": "GNpeQ4056qaR",
    "outputId": "75a86f8c-980c-438f-dc34-fd9ed4b00c55"
   },
   "outputs": [
    {
     "name": "stdout",
     "output_type": "stream",
     "text": [
      "4\n"
     ]
    }
   ],
   "source": [
    "ford = Car()\n",
    "print(ford.wheels)"
   ]
  },
  {
   "cell_type": "markdown",
   "metadata": {
    "id": "5UTTxfbq6qaS"
   },
   "source": [
    "##### Creating Multiple Instances"
   ]
  },
  {
   "cell_type": "code",
   "execution_count": 3,
   "metadata": {
    "colab": {
     "base_uri": "https://localhost:8080/",
     "height": 218
    },
    "executionInfo": {
     "elapsed": 276,
     "status": "error",
     "timestamp": 1654400319844,
     "user": {
      "displayName": "Brandon Apol",
      "userId": "10984203036753147866"
     },
     "user_tz": 480
    },
    "id": "vvNgCYxM6qaS",
    "outputId": "694d656d-da72-4748-b400-e1a62bca93fd"
   },
   "outputs": [
    {
     "ename": "NameError",
     "evalue": "name 'Car' is not defined",
     "output_type": "error",
     "traceback": [
      "\u001b[1;31m---------------------------------------------------------------------------\u001b[0m",
      "\u001b[1;31mNameError\u001b[0m                                 Traceback (most recent call last)",
      "Input \u001b[1;32mIn [3]\u001b[0m, in \u001b[0;36m<cell line: 1>\u001b[1;34m()\u001b[0m\n\u001b[1;32m----> 1\u001b[0m chevy \u001b[38;5;241m=\u001b[39m  \u001b[43mCar\u001b[49m()\n\u001b[0;32m      2\u001b[0m honda \u001b[38;5;241m=\u001b[39m Car()\n\u001b[0;32m      3\u001b[0m porsche \u001b[38;5;241m=\u001b[39m Car()\n",
      "\u001b[1;31mNameError\u001b[0m: name 'Car' is not defined"
     ]
    }
   ],
   "source": [
    "chevy =  Car()\n",
    "honda = Car()\n",
    "porsche = Car()\n",
    "\n",
    "print(type(porsche.color))\n",
    "\n"
   ]
  },
  {
   "cell_type": "markdown",
   "metadata": {
    "id": "Nkie3MQN6qaS"
   },
   "source": [
    "##### In-Class Exercise #1 - Create a Class 'Car' and Instantiate three different makes of cars"
   ]
  },
  {
   "cell_type": "code",
   "execution_count": 22,
   "metadata": {
    "id": "l_CiL6xs6qaS"
   },
   "outputs": [
    {
     "name": "stdout",
     "output_type": "stream",
     "text": [
      "4\n"
     ]
    }
   ],
   "source": [
    "class Car():\n",
    "    wheels = 4\n",
    "    doors = 3\n",
    "    color = 'blue'\n",
    "    \n",
    "mitsubishi = Car()\n",
    "toyota = Car()\n",
    "nissan = Car()\n",
    "print(mitsubishi.wheels)\n",
    "        "
   ]
  },
  {
   "cell_type": "markdown",
   "metadata": {
    "id": "4I9QMKHT6qaS"
   },
   "source": [
    "## The \\__init\\__() Method <br>\n",
    "<p>This method is used in almost every created class, and called only once upon the creation of the class instance. This method will initialize all variables needed for the object.</p>"
   ]
  },
  {
   "cell_type": "code",
   "execution_count": 27,
   "metadata": {
    "colab": {
     "base_uri": "https://localhost:8080/"
    },
    "executionInfo": {
     "elapsed": 297,
     "status": "ok",
     "timestamp": 1654400605284,
     "user": {
      "displayName": "Brandon Apol",
      "userId": "10984203036753147866"
     },
     "user_tz": 480
    },
    "id": "A4mXk-5v6qaT",
    "outputId": "ac218617-dc13-4856-aeaf-b8afe334d484"
   },
   "outputs": [
    {
     "name": "stdout",
     "output_type": "stream",
     "text": [
      "red\n",
      "6\n"
     ]
    }
   ],
   "source": [
    "class Car():\n",
    "  engine = '4.7L' # constant attribute\n",
    "\n",
    "  def __init__(self, wheels, color):\n",
    "    self.wheels = wheels\n",
    "    self.color = color\n",
    "\n",
    "ford = Car(4, 'red')\n",
    "chevy = Car(6, 'black')\n",
    "\n",
    "print(ford.color)\n",
    "print(chevy.wheels)"
   ]
  },
  {
   "cell_type": "markdown",
   "metadata": {
    "id": "E3FhAPyW6qaT"
   },
   "source": [
    "##### The 'self' Attribute <br>\n",
    "<p>This attribute is required to keep track of specific instance's attributes. Without the self attribute, the program would not know how to reference or keep track of an instance's attributes.</p>"
   ]
  },
  {
   "cell_type": "code",
   "execution_count": null,
   "metadata": {
    "id": "gqlafbUx6qaT"
   },
   "outputs": [],
   "source": [
    "# see above"
   ]
  },
  {
   "cell_type": "markdown",
   "metadata": {
    "id": "rTd9cgBn6qaT"
   },
   "source": [
    "## Class Attributes <br>\n",
    "<p>While variables are inside of a class, they are referred to as attributes and not variables. When someone says 'attribute' you know they're speaking about a class. Attributes can be initialized through the init method, or outside of it.</p>"
   ]
  },
  {
   "cell_type": "markdown",
   "metadata": {
    "id": "sXSQitFB6qaT"
   },
   "source": [
    "##### Initializing Attributes"
   ]
  },
  {
   "cell_type": "code",
   "execution_count": 32,
   "metadata": {
    "executionInfo": {
     "elapsed": 263,
     "status": "ok",
     "timestamp": 1654400961508,
     "user": {
      "displayName": "Brandon Apol",
      "userId": "10984203036753147866"
     },
     "user_tz": 480
    },
    "id": "gFrutSJ96qaT"
   },
   "outputs": [],
   "source": [
    "# see above\n",
    "\n",
    "class Toy():\n",
    "  kind = 'car'\n",
    "\n",
    "  def __init__(self, rooftop, horn, wheels = 4):\n",
    "    self.rooftop = rooftop\n",
    "    self.horn = horn\n",
    "    self.wheels = wheels\n",
    "\n",
    "tonka_truck = Toy(1,1,3)\n",
    "hotwheels_car = Toy(2,3,8)\n"
   ]
  },
  {
   "cell_type": "markdown",
   "metadata": {
    "id": "5qEDs3Ef6qaU"
   },
   "source": [
    "##### Accessing Class Attributes"
   ]
  },
  {
   "cell_type": "code",
   "execution_count": 33,
   "metadata": {
    "colab": {
     "base_uri": "https://localhost:8080/"
    },
    "executionInfo": {
     "elapsed": 336,
     "status": "ok",
     "timestamp": 1654401000610,
     "user": {
      "displayName": "Brandon Apol",
      "userId": "10984203036753147866"
     },
     "user_tz": 480
    },
    "id": "9Uo5umjk6qaU",
    "outputId": "5187dd0d-2ac2-48dd-8be2-b3d10e145241",
    "scrolled": true
   },
   "outputs": [
    {
     "name": "stdout",
     "output_type": "stream",
     "text": [
      "1\n",
      "8\n"
     ]
    }
   ],
   "source": [
    "# See Above\n",
    "print(tonka_truck.horn)\n",
    "print(hotwheels_car.wheels)"
   ]
  },
  {
   "cell_type": "markdown",
   "metadata": {
    "id": "589n2bfI6qaU"
   },
   "source": [
    "##### Setting Defaults for Attributes"
   ]
  },
  {
   "cell_type": "code",
   "execution_count": 16,
   "metadata": {
    "colab": {
     "base_uri": "https://localhost:8080/"
    },
    "executionInfo": {
     "elapsed": 291,
     "status": "ok",
     "timestamp": 1654401207595,
     "user": {
      "displayName": "Brandon Apol",
      "userId": "10984203036753147866"
     },
     "user_tz": 480
    },
    "id": "xbpERQEX6qaU",
    "outputId": "b8c54225-fdc5-4ae4-eda9-8d588a17b2f5"
   },
   "outputs": [
    {
     "name": "stdout",
     "output_type": "stream",
     "text": [
      "Blue\n",
      "4\n",
      "<__main__.Car object at 0x7f6e57826050>\n"
     ]
    }
   ],
   "source": [
    "class Car():\n",
    "    engine = '4.7L'\n",
    "    \n",
    "    def __init__(self,wheels):\n",
    "      self.wheels = wheels\n",
    "      self.color = 'Blue' # Cannot overwrite!\n",
    "\n",
    "honda = Car(4)\n",
    "print(honda.color)\n",
    "print(honda.wheels)\n",
    "honda.engine = '5.4L'\n"
   ]
  },
  {
   "cell_type": "markdown",
   "metadata": {
    "id": "ir8k02ZE6qaU"
   },
   "source": [
    "##### Changing Class Attributes <br>\n",
    "<p>Keep in mind there are global class attributes and then there are attributes only available to each class instance which won't effect other classes.</p>"
   ]
  },
  {
   "cell_type": "code",
   "execution_count": 37,
   "metadata": {
    "id": "RfGZ5kbu6qaU"
   },
   "outputs": [
    {
     "ename": "TypeError",
     "evalue": "__init__() missing 1 required positional argument: 'color'",
     "output_type": "error",
     "traceback": [
      "\u001b[1;31m---------------------------------------------------------------------------\u001b[0m",
      "\u001b[1;31mTypeError\u001b[0m                                 Traceback (most recent call last)",
      "Input \u001b[1;32mIn [37]\u001b[0m, in \u001b[0;36m<cell line: 1>\u001b[1;34m()\u001b[0m\n\u001b[1;32m----> 1\u001b[0m jeep \u001b[38;5;241m=\u001b[39m \u001b[43mCar\u001b[49m\u001b[43m(\u001b[49m\u001b[38;5;241;43m8\u001b[39;49m\u001b[43m)\u001b[49m\n\u001b[0;32m      3\u001b[0m \u001b[38;5;28mprint\u001b[39m(\u001b[38;5;124mf\u001b[39m\u001b[38;5;124m'\u001b[39m\u001b[38;5;124mbefore change: \u001b[39m\u001b[38;5;132;01m{\u001b[39;00mjeep\u001b[38;5;241m.\u001b[39mcolor\u001b[38;5;132;01m}\u001b[39;00m\u001b[38;5;124m'\u001b[39m)\n\u001b[0;32m      5\u001b[0m jeep\u001b[38;5;241m.\u001b[39mcolor \u001b[38;5;241m=\u001b[39m \u001b[38;5;124m'\u001b[39m\u001b[38;5;124mwhite\u001b[39m\u001b[38;5;124m'\u001b[39m\n",
      "\u001b[1;31mTypeError\u001b[0m: __init__() missing 1 required positional argument: 'color'"
     ]
    }
   ],
   "source": [
    "jeep = Car(8)\n",
    "\n",
    "print(f'before change: {jeep.color}')\n",
    "\n",
    "jeep.color = 'white''\n",
    "\n",
    "print(f'\\nAfter Change: {jeep.color}')\n"
   ]
  },
  {
   "cell_type": "code",
   "execution_count": null,
   "metadata": {
    "id": "zeppI2y-6qaU"
   },
   "outputs": [],
   "source": []
  },
  {
   "cell_type": "markdown",
   "metadata": {
    "id": "omwSVPyN6qaU"
   },
   "source": [
    "##### In-Class Exercise #2 - Add a doors and seats attribute to your 'Car' class then print out two different instances with different doors and seats"
   ]
  },
  {
   "cell_type": "code",
   "execution_count": 41,
   "metadata": {
    "id": "fyKwSeJg6qaU"
   },
   "outputs": [
    {
     "name": "stdout",
     "output_type": "stream",
     "text": [
      "ford wheels: 4 and ford doors: 3\n",
      "porsche wheels: 4 and ford doors: 3\n"
     ]
    }
   ],
   "source": [
    "class Car():\n",
    "    wheels = 4\n",
    "    doors = 3\n",
    "\n",
    "def __init__(self, wheels, doors):\n",
    "    self.wheels = wheels\n",
    "    self.doors = doors\n",
    "\n",
    "ford = Car()\n",
    "porsche = Car()\n",
    "\n",
    "\n",
    "print(f\"ford wheels: {ford.wheels} and ford doors: {ford.doors}\")\n",
    "print(f\"porsche wheels: {porsche.wheels} and ford doors: {porsche.doors}\")\n"
   ]
  },
  {
   "cell_type": "markdown",
   "metadata": {
    "id": "2cAd7L9I6qaU"
   },
   "source": [
    "## Class Methods <br>\n",
    "<p>While inside of a class, functions are referred to as 'methods'. If you hear someone mention methods, they're speaking about classes. Methods are essentially functions, but only callable on the instances of a class.</p>"
   ]
  },
  {
   "cell_type": "markdown",
   "metadata": {
    "id": "GpY6_Yz56qaU"
   },
   "source": [
    "##### Creating"
   ]
  },
  {
   "cell_type": "code",
   "execution_count": 44,
   "metadata": {
    "executionInfo": {
     "elapsed": 260,
     "status": "ok",
     "timestamp": 1654402995715,
     "user": {
      "displayName": "Brandon Apol",
      "userId": "10984203036753147866"
     },
     "user_tz": 480
    },
    "id": "DuiDzP1p6qaU"
   },
   "outputs": [],
   "source": [
    "class ShoppingBag():\n",
    "\n",
    "  '''\n",
    "    The ShoppingBag class will have handles, capacity, \n",
    "    and items to place inside.\n",
    "\n",
    "    Attributes for the class: \n",
    "    - handles: expected to be an integer\n",
    "    - items: expected to be a list\n",
    "    - capacity: expected to be an integer\n",
    "  '''\n",
    "\n",
    "  def __init__(self,handles, items = [], capacity = 10):\n",
    "    self.handles = handles\n",
    "    self.items = items\n",
    "    self.capacity = capacity\n",
    "\n",
    "    #MEHOD THAT SHOWS THE ITEMS IN OUR SHOPPNG BAG\n",
    "  def showShoppingBag(self):\n",
    "    if len(self.items) == 0:\n",
    "      print('You have no items.')\n",
    "    else:\n",
    "      print(\"You have items in your bag!!!\")\n",
    "      for item in self.items:\n",
    "        print(item)\n",
    "        \n",
    "#SHOW THE CAPACITY OF SHOPPING BAG \n",
    "  def showCapacity(self):\n",
    "    print(f'Your remaining capacity is: {self.capacity - len(self.items)}')\n",
    "    \n",
    "    \n",
    "#ADD ITEMS TO SHOPPING BAG \n",
    "  def addToShoppingBag(self):\n",
    "    if len(self.items) == self.capacity:\n",
    "      print('You have no room!')\n",
    "    else:\n",
    "      product = input('What would you like to add? ')\n",
    "      self.items.append(product)\n",
    "\n",
    "        \n",
    "  def showHandles(self):\n",
    "    print(f'You have {self.handles} handles on your bag')"
   ]
  },
  {
   "cell_type": "markdown",
   "metadata": {
    "id": "jLqPPUlV6qaU"
   },
   "source": [
    "##### Calling"
   ]
  },
  {
   "cell_type": "code",
   "execution_count": 48,
   "metadata": {
    "colab": {
     "base_uri": "https://localhost:8080/"
    },
    "executionInfo": {
     "elapsed": 48652,
     "status": "ok",
     "timestamp": 1654403046490,
     "user": {
      "displayName": "Brandon Apol",
      "userId": "10984203036753147866"
     },
     "user_tz": 480
    },
    "id": "dQJXHGDp6qaU",
    "outputId": "766e54ef-853c-4e8e-b0d1-e793f1f06323"
   },
   "outputs": [
    {
     "name": "stdout",
     "output_type": "stream",
     "text": [
      "What would you like to do?\n",
      "\n",
      "You may:\n",
      "- Add\n",
      "-Show\n",
      "-Quit\n",
      "add\n",
      "What would you like to add? grapes\n",
      "What would you like to do?\n",
      "\n",
      "You may:\n",
      "- Add\n",
      "-Show\n",
      "-Quit\n",
      "add\n",
      "What would you like to add? books\n",
      "What would you like to do?\n",
      "\n",
      "You may:\n",
      "- Add\n",
      "-Show\n",
      "-Quit\n",
      "add \n",
      "That is not a valid option. Please enter add, show, or quit.\n",
      "What would you like to do?\n",
      "\n",
      "You may:\n",
      "- Add\n",
      "-Show\n",
      "-Quit\n",
      "add\n",
      "What would you like to add? boxing gloves\n",
      "What would you like to do?\n",
      "\n",
      "You may:\n",
      "- Add\n",
      "-Show\n",
      "-Quit\n",
      "show\n",
      "What would you like to see: \n",
      "- Capacity\n",
      "- Handles\n",
      "- Shopping Bagshopping bag\n",
      "You have items in your bag!!!\n",
      "cucumber\n",
      "grapes\n",
      "books\n",
      "boxing gloves\n"
     ]
    },
    {
     "ename": "KeyboardInterrupt",
     "evalue": "Interrupted by user",
     "output_type": "error",
     "traceback": [
      "\u001b[1;31m---------------------------------------------------------------------------\u001b[0m",
      "\u001b[1;31mKeyboardInterrupt\u001b[0m                         Traceback (most recent call last)",
      "Input \u001b[1;32mIn [48]\u001b[0m, in \u001b[0;36m<cell line: 27>\u001b[1;34m()\u001b[0m\n\u001b[0;32m     24\u001b[0m     \u001b[38;5;28;01melse\u001b[39;00m:\n\u001b[0;32m     25\u001b[0m       \u001b[38;5;28mprint\u001b[39m(\u001b[38;5;124m'\u001b[39m\u001b[38;5;124mThat is not a valid option. Please enter add, show, or quit.\u001b[39m\u001b[38;5;124m'\u001b[39m)\n\u001b[1;32m---> 27\u001b[0m \u001b[43mrun\u001b[49m\u001b[43m(\u001b[49m\u001b[43m)\u001b[49m\n",
      "Input \u001b[1;32mIn [48]\u001b[0m, in \u001b[0;36mrun\u001b[1;34m()\u001b[0m\n\u001b[0;32m      6\u001b[0m \u001b[38;5;28;01mdef\u001b[39;00m \u001b[38;5;21mrun\u001b[39m():\n\u001b[0;32m      7\u001b[0m   \u001b[38;5;28;01mwhile\u001b[39;00m \u001b[38;5;28;01mTrue\u001b[39;00m:\n\u001b[1;32m----> 8\u001b[0m     response \u001b[38;5;241m=\u001b[39m \u001b[38;5;28;43minput\u001b[39;49m\u001b[43m(\u001b[49m\u001b[38;5;124;43m\"\u001b[39;49m\u001b[38;5;124;43mWhat would you like to do?\u001b[39;49m\u001b[38;5;130;43;01m\\n\u001b[39;49;00m\u001b[38;5;130;43;01m\\n\u001b[39;49;00m\u001b[38;5;124;43mYou may:\u001b[39;49m\u001b[38;5;130;43;01m\\n\u001b[39;49;00m\u001b[38;5;124;43m- Add\u001b[39;49m\u001b[38;5;130;43;01m\\n\u001b[39;49;00m\u001b[38;5;124;43m-Show\u001b[39;49m\u001b[38;5;130;43;01m\\n\u001b[39;49;00m\u001b[38;5;124;43m-Quit\u001b[39;49m\u001b[38;5;130;43;01m\\n\u001b[39;49;00m\u001b[38;5;124;43m\"\u001b[39;49m\u001b[43m)\u001b[49m\n\u001b[0;32m     10\u001b[0m     \u001b[38;5;28;01mif\u001b[39;00m response\u001b[38;5;241m.\u001b[39mlower() \u001b[38;5;241m==\u001b[39m \u001b[38;5;124m'\u001b[39m\u001b[38;5;124mquit\u001b[39m\u001b[38;5;124m'\u001b[39m:\n\u001b[0;32m     11\u001b[0m       wholeFoodsBag\u001b[38;5;241m.\u001b[39mshowShoppingBag()\n",
      "File \u001b[1;32mD:\\anaconda\\lib\\site-packages\\ipykernel\\kernelbase.py:1075\u001b[0m, in \u001b[0;36mKernel.raw_input\u001b[1;34m(self, prompt)\u001b[0m\n\u001b[0;32m   1071\u001b[0m \u001b[38;5;28;01mif\u001b[39;00m \u001b[38;5;129;01mnot\u001b[39;00m \u001b[38;5;28mself\u001b[39m\u001b[38;5;241m.\u001b[39m_allow_stdin:\n\u001b[0;32m   1072\u001b[0m     \u001b[38;5;28;01mraise\u001b[39;00m StdinNotImplementedError(\n\u001b[0;32m   1073\u001b[0m         \u001b[38;5;124m\"\u001b[39m\u001b[38;5;124mraw_input was called, but this frontend does not support input requests.\u001b[39m\u001b[38;5;124m\"\u001b[39m\n\u001b[0;32m   1074\u001b[0m     )\n\u001b[1;32m-> 1075\u001b[0m \u001b[38;5;28;01mreturn\u001b[39;00m \u001b[38;5;28;43mself\u001b[39;49m\u001b[38;5;241;43m.\u001b[39;49m\u001b[43m_input_request\u001b[49m\u001b[43m(\u001b[49m\n\u001b[0;32m   1076\u001b[0m \u001b[43m    \u001b[49m\u001b[38;5;28;43mstr\u001b[39;49m\u001b[43m(\u001b[49m\u001b[43mprompt\u001b[49m\u001b[43m)\u001b[49m\u001b[43m,\u001b[49m\n\u001b[0;32m   1077\u001b[0m \u001b[43m    \u001b[49m\u001b[38;5;28;43mself\u001b[39;49m\u001b[38;5;241;43m.\u001b[39;49m\u001b[43m_parent_ident\u001b[49m\u001b[43m[\u001b[49m\u001b[38;5;124;43m\"\u001b[39;49m\u001b[38;5;124;43mshell\u001b[39;49m\u001b[38;5;124;43m\"\u001b[39;49m\u001b[43m]\u001b[49m\u001b[43m,\u001b[49m\n\u001b[0;32m   1078\u001b[0m \u001b[43m    \u001b[49m\u001b[38;5;28;43mself\u001b[39;49m\u001b[38;5;241;43m.\u001b[39;49m\u001b[43mget_parent\u001b[49m\u001b[43m(\u001b[49m\u001b[38;5;124;43m\"\u001b[39;49m\u001b[38;5;124;43mshell\u001b[39;49m\u001b[38;5;124;43m\"\u001b[39;49m\u001b[43m)\u001b[49m\u001b[43m,\u001b[49m\n\u001b[0;32m   1079\u001b[0m \u001b[43m    \u001b[49m\u001b[43mpassword\u001b[49m\u001b[38;5;241;43m=\u001b[39;49m\u001b[38;5;28;43;01mFalse\u001b[39;49;00m\u001b[43m,\u001b[49m\n\u001b[0;32m   1080\u001b[0m \u001b[43m\u001b[49m\u001b[43m)\u001b[49m\n",
      "File \u001b[1;32mD:\\anaconda\\lib\\site-packages\\ipykernel\\kernelbase.py:1120\u001b[0m, in \u001b[0;36mKernel._input_request\u001b[1;34m(self, prompt, ident, parent, password)\u001b[0m\n\u001b[0;32m   1117\u001b[0m             \u001b[38;5;28;01mbreak\u001b[39;00m\n\u001b[0;32m   1118\u001b[0m \u001b[38;5;28;01mexcept\u001b[39;00m \u001b[38;5;167;01mKeyboardInterrupt\u001b[39;00m:\n\u001b[0;32m   1119\u001b[0m     \u001b[38;5;66;03m# re-raise KeyboardInterrupt, to truncate traceback\u001b[39;00m\n\u001b[1;32m-> 1120\u001b[0m     \u001b[38;5;28;01mraise\u001b[39;00m \u001b[38;5;167;01mKeyboardInterrupt\u001b[39;00m(\u001b[38;5;124m\"\u001b[39m\u001b[38;5;124mInterrupted by user\u001b[39m\u001b[38;5;124m\"\u001b[39m) \u001b[38;5;28;01mfrom\u001b[39;00m \u001b[38;5;28mNone\u001b[39m\n\u001b[0;32m   1121\u001b[0m \u001b[38;5;28;01mexcept\u001b[39;00m \u001b[38;5;167;01mException\u001b[39;00m:\n\u001b[0;32m   1122\u001b[0m     \u001b[38;5;28mself\u001b[39m\u001b[38;5;241m.\u001b[39mlog\u001b[38;5;241m.\u001b[39mwarning(\u001b[38;5;124m\"\u001b[39m\u001b[38;5;124mInvalid Message:\u001b[39m\u001b[38;5;124m\"\u001b[39m, exc_info\u001b[38;5;241m=\u001b[39m\u001b[38;5;28;01mTrue\u001b[39;00m)\n",
      "\u001b[1;31mKeyboardInterrupt\u001b[0m: Interrupted by user"
     ]
    }
   ],
   "source": [
    "# See Above\n",
    "#so far we created the idea of a shopping bag, we will actually instantiate and make one, and use it! \n",
    "\n",
    "wholeFoodsBag = ShoppingBag(2)\n",
    "\n",
    "def run():\n",
    "  while True:\n",
    "    response = input(\"What would you like to do?\\n\\nYou may:\\n- Add\\n-Show\\n-Quit\\n\")\n",
    "\n",
    "    if response.lower() == 'quit':\n",
    "      wholeFoodsBag.showShoppingBag()\n",
    "      print('Thanks for shopping!')\n",
    "      break\n",
    "    elif response.lower() == 'add':\n",
    "      wholeFoodsBag.addToShoppingBag()\n",
    "    elif response.lower() == 'show':\n",
    "      showChoice = input('What would you like to see: \\n- Capacity\\n- Handles\\n- Shopping Bag')\n",
    "      if showChoice.lower() == 'capacity':\n",
    "        wholeFoodsBag.showCapacity()\n",
    "      elif showChoice.lower() == 'handles':\n",
    "        wholeFoodsBag.showHandles()\n",
    "      else:\n",
    "        wholeFoodsBag.showShoppingBag()\n",
    "    else:\n",
    "      print('That is not a valid option. Please enter add, show, or quit.')\n",
    "\n",
    "run()"
   ]
  },
  {
   "cell_type": "markdown",
   "metadata": {
    "id": "zKvlDgTo6qaV"
   },
   "source": [
    "##### Modifying an Attribute's Value Through a Method"
   ]
  },
  {
   "cell_type": "code",
   "execution_count": 54,
   "metadata": {
    "id": "9M6x0qsk6qaV"
   },
   "outputs": [
    {
     "name": "stdout",
     "output_type": "stream",
     "text": [
      "Your remaining capacity is: 6\n",
      "capacity after the change..\n"
     ]
    },
    {
     "ename": "AttributeError",
     "evalue": "'ShoppingBag' object has no attribute 'changeBagCapacity'",
     "output_type": "error",
     "traceback": [
      "\u001b[1;31m---------------------------------------------------------------------------\u001b[0m",
      "\u001b[1;31mAttributeError\u001b[0m                            Traceback (most recent call last)",
      "Input \u001b[1;32mIn [54]\u001b[0m, in \u001b[0;36m<cell line: 4>\u001b[1;34m()\u001b[0m\n\u001b[0;32m      2\u001b[0m wholeFoodsBag\u001b[38;5;241m.\u001b[39mshowCapacity()\n\u001b[0;32m      3\u001b[0m \u001b[38;5;28mprint\u001b[39m(\u001b[38;5;124m'\u001b[39m\u001b[38;5;124mcapacity after the change..\u001b[39m\u001b[38;5;124m'\u001b[39m)\n\u001b[1;32m----> 4\u001b[0m \u001b[43mwholeFoodsBag\u001b[49m\u001b[38;5;241;43m.\u001b[39;49m\u001b[43mchangeBagCapacity\u001b[49m(\u001b[38;5;241m40\u001b[39m)\n\u001b[0;32m      5\u001b[0m wholeFoodsBag\u001b[38;5;241m.\u001b[39mshowCapacity\n",
      "\u001b[1;31mAttributeError\u001b[0m: 'ShoppingBag' object has no attribute 'changeBagCapacity'"
     ]
    }
   ],
   "source": [
    "#show the capacity\n",
    "wholeFoodsBag.showCapacity()\n",
    "print('capacity after the change..')\n",
    "wholeFoodsBag.changeBagCapacity(40)\n",
    "wholeFoodsBag.showCapacity\n"
   ]
  },
  {
   "cell_type": "markdown",
   "metadata": {
    "id": "s1eIpLA76qaV"
   },
   "source": [
    "##### Incrementing an Attribute's Value Through a Method"
   ]
  },
  {
   "cell_type": "code",
   "execution_count": 55,
   "metadata": {
    "id": "DBQ07qOI6qaV"
   },
   "outputs": [
    {
     "name": "stdout",
     "output_type": "stream",
     "text": [
      "Your remaining capacity is: 6\n",
      "after increase:\n"
     ]
    },
    {
     "ename": "AttributeError",
     "evalue": "'ShoppingBag' object has no attribute 'increaseCapacity'",
     "output_type": "error",
     "traceback": [
      "\u001b[1;31m---------------------------------------------------------------------------\u001b[0m",
      "\u001b[1;31mAttributeError\u001b[0m                            Traceback (most recent call last)",
      "Input \u001b[1;32mIn [55]\u001b[0m, in \u001b[0;36m<cell line: 3>\u001b[1;34m()\u001b[0m\n\u001b[0;32m      1\u001b[0m wholeFoodsBag\u001b[38;5;241m.\u001b[39mshowCapacity()\n\u001b[0;32m      2\u001b[0m \u001b[38;5;28mprint\u001b[39m(\u001b[38;5;124m'\u001b[39m\u001b[38;5;124mafter increase:\u001b[39m\u001b[38;5;124m'\u001b[39m)\n\u001b[1;32m----> 3\u001b[0m \u001b[43mwholeFoodsBag\u001b[49m\u001b[38;5;241;43m.\u001b[39;49m\u001b[43mincreaseCapacity\u001b[49m()\n\u001b[0;32m      4\u001b[0m wholeFoodsBag\u001b[38;5;241m.\u001b[39mshowCapacity\n",
      "\u001b[1;31mAttributeError\u001b[0m: 'ShoppingBag' object has no attribute 'increaseCapacity'"
     ]
    }
   ],
   "source": [
    "wholeFoodsBag.showCapacity()\n",
    "print('after increase:')\n",
    "wholeFoodsBag.increaseCapacity()\n",
    "wholeFoodsBag.showCapacity"
   ]
  },
  {
   "cell_type": "markdown",
   "metadata": {
    "id": "3OnGbPMg6qaV"
   },
   "source": [
    "##### In-Class Exercise #3 - Add a method that takes in three parameters of year, doors and seats and prints out a formatted print statement with make, model, year, seats, and doors"
   ]
  },
  {
   "cell_type": "code",
   "execution_count": null,
   "metadata": {
    "id": "njxbIERD6qaV"
   },
   "outputs": [],
   "source": [
    "# Create class with 2 paramters inside of the __init__ which are make and model\n",
    "\n",
    "# Inside of the Car class create a method that has 4 parameter in total (self,year,door,seats)\n",
    "\n",
    "# Output: This car is from 2019 and is a Ford Expolorer and has 4 doors and 5 seats\n",
    "\n",
    "\n",
    "class ShoppingBag():\n",
    "\n",
    "  '''\n",
    "    The ShoppingBag class will have model, capacity, \n",
    "    and items to place inside.\n",
    "\n",
    "    Attributes for the class: \n",
    "    - model: expected to be an integer\n",
    "    - items: expected to be a list\n",
    "    - capacity: expected to be an integer\n",
    "  '''\n",
    "\n",
    "  def __init__(make,model, items = [], capacity = 10):\n",
    "    make.model = model\n",
    "    make.items = items\n",
    "    make.capacity = capacity\n",
    "\n",
    "    #MEHOD THAT SHOWS THE ITEMS IN OUR SHOPPNG BAG\n",
    "  def showShoppingBag(make):\n",
    "    if len(make.items) == 0:\n",
    "      print('You have no items.')\n",
    "    else:\n",
    "      print(\"You have items in your bag!!!\")\n",
    "      for item in make.items:\n",
    "        print(item)\n",
    "        \n",
    "#SHOW THE CAPACITY OF SHOPPING BAG \n",
    "  def showCapacity(make):\n",
    "    print(f'Your remaining capacity is: {make.capacity - len(make.items)}')\n",
    "    \n",
    "    \n",
    "#make ITEMS TO SHOPPING BAG \n",
    "  def makeToShoppingBag(make):\n",
    "    if len(make.items) == make.capacity:\n",
    "      print('You have no room!')\n",
    "    else:\n",
    "      product = input('What would you like to make? ')\n",
    "      make.items.append(product)\n",
    "\n",
    "        \n",
    "  def showmodel(make):\n",
    "    print(f'You have {make.model} model on your bag')\n",
    "\n",
    "wholeFoodsBag = ShoppingBag(2)\n",
    "\n",
    "def run():\n",
    "  while True:\n",
    "    response = input(\"What would you like to do?\\n\\nYou may:\\n- make\\n-Show\\n-Quit\\n\")\n",
    "\n",
    "    if response.lower() == 'quit':\n",
    "      wholeFoodsBag.showShoppingBag()\n",
    "      print('Thanks for shopping!')\n",
    "      break\n",
    "    elif response.lower() == 'make':\n",
    "      wholeFoodsBag.makeToShoppingBag()\n",
    "    elif response.lower() == 'show':\n",
    "      showChoice = input('What would you like to see: \\n- Capacity\\n- model\\n- Shopping Bag')\n",
    "      if showChoice.lower() == 'capacity':\n",
    "        wholeFoodsBag.showCapacity()\n",
    "      elif showChoice.lower() == 'model':\n",
    "        wholeFoodsBag.showmodel()\n",
    "      else:\n",
    "        wholeFoodsBag.showShoppingBag()\n",
    "    else:\n",
    "      print('That is not a valid option. Please enter make, show, or quit.')\n",
    "\n",
    "run()\n"
   ]
  },
  {
   "cell_type": "markdown",
   "metadata": {
    "id": "dwpcygAo6qaV"
   },
   "source": [
    "## Inheritance <br>\n",
    "<p>You can create a child-parent relationship between two classes by using inheritance. What this allows you to do is have overriding methods, but also inherit traits from the parent class. Think of it as an actual parent and child, the child will inherit the parent's genes, as will the classes in OOP</p>"
   ]
  },
  {
   "cell_type": "markdown",
   "metadata": {
    "id": "RxjwbuIl6qaV"
   },
   "source": [
    "##### Syntax for Inheriting from a Parent Class"
   ]
  },
  {
   "cell_type": "code",
   "execution_count": 67,
   "metadata": {
    "id": "fVjKab2o6qaV"
   },
   "outputs": [
    {
     "name": "stdout",
     "output_type": "stream",
     "text": [
      "Bark\n",
      "Make some generic sound\n",
      "None\n",
      "9.8\n",
      "15\n"
     ]
    }
   ],
   "source": [
    "# create a parent class and call it animal\n",
    "class Animal():\n",
    "    acceleration = 9.8\n",
    "    \n",
    "    def __init__(self, name, species, legs = 4):\n",
    "        self.name = name\n",
    "        self.species = species\n",
    "        self.legs = legs\n",
    "        \n",
    "    #generic parent method\n",
    "    \n",
    "    def makeSound(self):\n",
    "        print('Make some generic sound')\n",
    "        \n",
    "#now we are making our child class dog\n",
    "class Dog(Animal):\n",
    "    speed = 15 \n",
    "    \n",
    "    def printInfo(self):\n",
    "        print(f\"the dog has {self.speed} mph in speed and {self.acceleration}\")\n",
    "              \n",
    "# Creation of our grand child class -- mutt\n",
    "class Mutt(Dog):\n",
    "    color = \"Tan\"\n",
    "    \n",
    "    #override the animal class using the dog class to overrite the __init__ from animal\n",
    "    def __init__(self, name, species,eye_color, legs = 4):\n",
    "        Dog.__init__(self, name, species,legs)\n",
    "        self.eye_color = eye_color\n",
    "              \n",
    "              \n",
    "               #overide the makesound method that is coming from animal\n",
    "    def makeSound(self):\n",
    "        noise = 'Bark'\n",
    "        return noise\n",
    "lassie = Dog ('lassie', 'Dog')\n",
    "basic_animal = Animal('Generic Animal Name', 'Generic Animal Species')\n",
    "buster = Mutt('Buster','Mut', 'Brown')\n",
    "\n",
    "print(buster.makeSound())\n",
    "print(lassie.makeSound())\n",
    "print(buster.acceleration)\n",
    "print(buster.speed)"
   ]
  },
  {
   "cell_type": "markdown",
   "metadata": {
    "id": "gW-PNDG66qaV"
   },
   "source": [
    "##### The \\__init\\__() Method for a Child Class - super()"
   ]
  },
  {
   "cell_type": "code",
   "execution_count": 69,
   "metadata": {
    "id": "kfA6mVBq6qaV",
    "scrolled": true
   },
   "outputs": [
    {
     "name": "stdout",
     "output_type": "stream",
     "text": [
      "Bark\n",
      "Make some generic sound\n",
      "None\n",
      "9.8\n",
      "15\n"
     ]
    }
   ],
   "source": [
    "class Puppy(Dog):\n",
    "    color = \"black and brown\"\n",
    "    \n",
    "    #override the animal class __init__ (via dog class)\n",
    "    def __init__(self,name,species,eye_color,legs=4):\n",
    "        super().__init__(name,species,legs)\n",
    "        self.eye_color = eye_color\n",
    "        \n",
    "    #override the make sound method\n",
    "    def makeSound(self):\n",
    "        noise = 'Bark'\n",
    "        return noise\n",
    "\n",
    "lassie = Dog ('lassie', 'Dog')\n",
    "basic_animal = Animal('Generic Animal Name', 'Generic Animal Species')\n",
    "buster = Mutt('Buster','Mut', 'Brown')\n",
    "\n",
    "print(buster.makeSound())\n",
    "print(lassie.makeSound())\n",
    "print(buster.acceleration)\n",
    "print(buster.speed)"
   ]
  },
  {
   "cell_type": "markdown",
   "metadata": {
    "id": "XUO6XcM46qaV"
   },
   "source": [
    "##### Defining Attributes and Methods for the Child Class"
   ]
  },
  {
   "cell_type": "code",
   "execution_count": null,
   "metadata": {
    "id": "V2icaoLM6qaV"
   },
   "outputs": [],
   "source": [
    "# See Above"
   ]
  },
  {
   "cell_type": "markdown",
   "metadata": {
    "id": "9Rr2MZdB6qaV"
   },
   "source": [
    "##### Method Overriding"
   ]
  },
  {
   "cell_type": "code",
   "execution_count": null,
   "metadata": {
    "id": "r67j7Np96qaV"
   },
   "outputs": [],
   "source": [
    "# See Above"
   ]
  },
  {
   "cell_type": "markdown",
   "metadata": {
    "id": "2x6DBjcJ6qaV"
   },
   "source": [
    "## Classes as Attributes <br>\n",
    "<p>Classes can also be used as attributes within another class. This is useful in situations where you need to keep variables locally stored, instead of globally stored.</p>"
   ]
  },
  {
   "cell_type": "code",
   "execution_count": 71,
   "metadata": {
    "id": "yJ4rQuLP6qaV"
   },
   "outputs": [
    {
     "name": "stdout",
     "output_type": "stream",
     "text": [
      "20\n"
     ]
    },
    {
     "data": {
      "text/plain": [
       "'2019 Tesla Model X 20'"
      ]
     },
     "execution_count": 71,
     "metadata": {},
     "output_type": "execute_result"
    }
   ],
   "source": [
    "class Battary():\n",
    "    volts = 7.8\n",
    "    \n",
    "    def __init__(self, cells):\n",
    "        self.cells = cells\n",
    "\n",
    "class Car():\n",
    "    def __init__(self,year,make,model,battary):\n",
    "        self.year = year\n",
    "        self.make = make\n",
    "        self.model = model\n",
    "        self.battary = battary\n",
    "    def printInfo(self):\n",
    "        return f'{self.year} {self.make} {self.model} {self.battary.cells}'\n",
    "        \n",
    "        \n",
    "        \n",
    "my_battary = Battary(20)\n",
    "\n",
    "tesla = Car(2019, 'Tesla', 'Model X', my_battary)\n",
    "\n",
    "print(tesla.battary.cells)\n",
    "tesla.printInfo()"
   ]
  },
  {
   "cell_type": "markdown",
   "metadata": {
    "id": "0TaDNag56qaV"
   },
   "source": [
    "# Exercises"
   ]
  },
  {
   "cell_type": "markdown",
   "metadata": {
    "id": "OmiCVOuc6qaV"
   },
   "source": [
    "### Exercise 1 - Turn the shopping cart program from yesterday into an object-oriented program\n",
    "\n",
    "The comments in the cell below are there as a guide for thinking about the problem. However, if you feel a different way is best for you and your own thought process, please do what feels best for you by all means."
   ]
  },
  {
   "cell_type": "code",
   "execution_count": null,
   "metadata": {
    "id": "nIJiQUSl6qaW"
   },
   "outputs": [],
   "source": [
    "# Create a class called cart that retains items and has methods to add, remove, and show\n",
    "\n",
    "class Cart():\n",
    "    pass\n",
    "    "
   ]
  },
  {
   "cell_type": "markdown",
   "metadata": {
    "id": "X7uS68a06qaW"
   },
   "source": [
    "### Exercise 2 - Write a Python class which has two methods get_String and print_String. get_String accept a string from the user and print_String print the string in upper case"
   ]
  },
  {
   "cell_type": "code",
   "execution_count": 72,
   "metadata": {
    "id": "WdrwThy96qaW"
   },
   "outputs": [
    {
     "name": "stderr",
     "output_type": "stream",
     "text": [
      "<>:7: SyntaxWarning: 'str' object is not callable; perhaps you missed a comma?\n",
      "<>:7: SyntaxWarning: 'str' object is not callable; perhaps you missed a comma?\n",
      "C:\\Users\\Daniel\\AppData\\Local\\Temp\\ipykernel_56048\\2539469556.py:7: SyntaxWarning: 'str' object is not callable; perhaps you missed a comma?\n",
      "  ipt1 = input(\"please write a string\"(Car()))\n",
      "C:\\Users\\Daniel\\AppData\\Local\\Temp\\ipykernel_56048\\2539469556.py:7: SyntaxWarning: 'str' object is not callable; perhaps you missed a comma?\n",
      "  ipt1 = input(\"please write a string\"(Car()))\n"
     ]
    },
    {
     "ename": "NameError",
     "evalue": "name 'get' is not defined",
     "output_type": "error",
     "traceback": [
      "\u001b[1;31m---------------------------------------------------------------------------\u001b[0m",
      "\u001b[1;31mNameError\u001b[0m                                 Traceback (most recent call last)",
      "Input \u001b[1;32mIn [72]\u001b[0m, in \u001b[0;36m<cell line: 1>\u001b[1;34m()\u001b[0m\n\u001b[1;32m----> 1\u001b[0m \u001b[38;5;28;01mclass\u001b[39;00m \u001b[38;5;21;01mCar\u001b[39;00m():\n\u001b[0;32m      2\u001b[0m     get_string \u001b[38;5;241m=\u001b[39m get\n\u001b[0;32m      3\u001b[0m     print_string \u001b[38;5;241m=\u001b[39m \u001b[38;5;28mprint\u001b[39m\n",
      "Input \u001b[1;32mIn [72]\u001b[0m, in \u001b[0;36mCar\u001b[1;34m()\u001b[0m\n\u001b[0;32m      1\u001b[0m \u001b[38;5;28;01mclass\u001b[39;00m \u001b[38;5;21;01mCar\u001b[39;00m():\n\u001b[1;32m----> 2\u001b[0m     get_string \u001b[38;5;241m=\u001b[39m \u001b[43mget\u001b[49m\n\u001b[0;32m      3\u001b[0m     print_string \u001b[38;5;241m=\u001b[39m \u001b[38;5;28mprint\u001b[39m\n",
      "\u001b[1;31mNameError\u001b[0m: name 'get' is not defined"
     ]
    }
   ],
   "source": [
    "\n",
    "\n",
    "class Car():\n",
    "    get_string = get\n",
    "    print_string = print\n",
    "    \n",
    "    \n",
    "\n",
    "ipt1 = input(\"please write a string\"(Car()))\n",
    "\n",
    "\n",
    "print(ipt1.battary.cells)\n",
    "tesla.printInfo()"
   ]
  },
  {
   "cell_type": "code",
   "execution_count": null,
   "metadata": {},
   "outputs": [],
   "source": []
  }
 ],
 "metadata": {
  "colab": {
   "name": "Python Document IV.ipynb",
   "provenance": []
  },
  "kernelspec": {
   "display_name": "Python 3 (ipykernel)",
   "language": "python",
   "name": "python3"
  },
  "language_info": {
   "codemirror_mode": {
    "name": "ipython",
    "version": 3
   },
   "file_extension": ".py",
   "mimetype": "text/x-python",
   "name": "python",
   "nbconvert_exporter": "python",
   "pygments_lexer": "ipython3",
   "version": "3.9.12"
  }
 },
 "nbformat": 4,
 "nbformat_minor": 1
}
